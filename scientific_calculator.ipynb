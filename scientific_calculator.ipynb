{
  "nbformat": 4,
  "nbformat_minor": 0,
  "metadata": {
    "colab": {
      "provenance": []
    },
    "kernelspec": {
      "name": "python3",
      "display_name": "Python 3"
    },
    "language_info": {
      "name": "python"
    }
  },
  "cells": [
    {
      "cell_type": "code",
      "execution_count": 2,
      "metadata": {
        "id": "qg1qNP31ehab"
      },
      "outputs": [],
      "source": [
        "import math\n"
      ]
    },
    {
      "cell_type": "code",
      "source": [
        "#1.Basic arithematic functions\n",
        "def add(a, b): return a + b\n",
        "def subtract(a, b): return a - b\n",
        "def multiply(a, b): return a * b\n",
        "def divide(a, b):\n",
        "    try: return a / b\n",
        "    except ZeroDivisionError: return \"Error: Division by zero\"\n",
        "def modulus(a, b): return a % b\n"
      ],
      "metadata": {
        "id": "SMho55sbeuu1"
      },
      "execution_count": 1,
      "outputs": []
    },
    {
      "cell_type": "code",
      "source": [
        "#2. Advanced Math Functions\n",
        "def power(a, b): return math.pow(a, b)\n",
        "def square_root(a): return math.sqrt(a)\n",
        "def factorial(a): return math.factorial(a)\n",
        "def exponential(a): return math.exp(a)\n",
        "def log_base10(a): return math.log10(a)\n",
        "def natural_log(a): return math.log(a)\n"
      ],
      "metadata": {
        "id": "cdSsjA-Ge04o"
      },
      "execution_count": 4,
      "outputs": []
    },
    {
      "cell_type": "code",
      "source": [
        "#3. Trigonometry\n",
        "def sin_deg(a): return math.sin(math.radians(a))\n",
        "def cos_deg(a): return math.cos(math.radians(a))\n",
        "def tan_deg(a): return math.tan(math.radians(a))\n",
        "def sin_rad(a): return math.sin(a)\n",
        "def cos_rad(a): return math.cos(a)\n",
        "def tan_rad(a): return math.tan(a)\n"
      ],
      "metadata": {
        "id": "IFxwxBV7fLmm"
      },
      "execution_count": 5,
      "outputs": []
    },
    {
      "cell_type": "code",
      "source": [
        "#4. Number System Conversion\n",
        "def to_binary(n): return bin(n)\n",
        "def to_octal(n): return oct(n)\n",
        "def to_hex(n): return hex(n)\n",
        "def from_binary(b): return int(b, 2)\n",
        "def from_octal(o): return int(o, 8)\n",
        "def from_hex(h): return int(h, 16)\n"
      ],
      "metadata": {
        "id": "kAxn-j-NfWH2"
      },
      "execution_count": 6,
      "outputs": []
    },
    {
      "cell_type": "code",
      "source": [
        "#5. Angle Conversion\n",
        "def deg_to_rad(deg): return math.radians(deg)\n",
        "def rad_to_deg(rad): return math.degrees(rad)\n"
      ],
      "metadata": {
        "id": "0WF-8wzmfaO9"
      },
      "execution_count": 7,
      "outputs": []
    },
    {
      "cell_type": "code",
      "source": [
        "def main():\n",
        "    while True:\n",
        "        print(\"\\n--- Sure Pro Scientific Calculator ---\")\n",
        "        print(\"1. Basic Arithmetic\")\n",
        "        print(\"2. Advanced Math Functions\")\n",
        "        print(\"3. Trigonometry\")\n",
        "        print(\"4. Number System Conversion\")\n",
        "        print(\"5. Angle Conversion\")\n",
        "        print(\"6. Constants\")\n",
        "        print(\"7. Exit\")\n",
        "\n",
        "        choice = input(\"Choose an option (1–7): \")\n",
        "\n",
        "        try:\n",
        "            if choice == '1':\n",
        "                a = float(input(\"Enter first number: \"))\n",
        "                b = float(input(\"Enter second number: \"))\n",
        "                op = input(\"Operation (+, -, *, /, %): \")\n",
        "                if op == '+': print(\"Result:\", add(a, b))\n",
        "                elif op == '-': print(\"Result:\", subtract(a, b))\n",
        "                elif op == '*': print(\"Result:\", multiply(a, b))\n",
        "                elif op == '/': print(\"Result:\", divide(a, b))\n",
        "                elif op == '%': print(\"Result:\", modulus(a, b))\n",
        "                else: print(\"Invalid operation\")\n",
        "\n",
        "            elif choice == '2':\n",
        "                print(\"Options: power, sqrt, factorial, exp, log10, ln\")\n",
        "                op = input(\"Choose function: \")\n",
        "                a = float(input(\"Enter number: \"))\n",
        "                if op == 'power':\n",
        "                    b = float(input(\"Enter exponent: \"))\n",
        "                    print(\"Result:\", power(a, b))\n",
        "                elif op == 'sqrt': print(\"Result:\", square_root(a))\n",
        "                elif op == 'factorial': print(\"Result:\", factorial(int(a)))\n",
        "                elif op == 'exp': print(\"Result:\", exponential(a))\n",
        "                elif op == 'log10': print(\"Result:\", log_base10(a))\n",
        "                elif op == 'ln': print(\"Result:\", natural_log(a))\n",
        "                else: print(\"Invalid function\")\n",
        "\n",
        "            elif choice == '3':\n",
        "                mode = input(\"Mode (deg/rad): \")\n",
        "                func = input(\"Function (sin/cos/tan): \")\n",
        "                a = float(input(\"Enter angle: \"))\n",
        "                if mode == 'deg':\n",
        "                    if func == 'sin': print(\"Result:\", sin_deg(a))\n",
        "                    elif func == 'cos': print(\"Result:\", cos_deg(a))\n",
        "                    elif func == 'tan': print(\"Result:\", tan_deg(a))\n",
        "                elif mode == 'rad':\n",
        "                    if func == 'sin': print(\"Result:\", sin_rad(a))\n",
        "                    elif func == 'cos': print(\"Result:\", cos_rad(a))\n",
        "                    elif func == 'tan': print(\"Result:\", tan_rad(a))\n",
        "                else: print(\"Invalid mode\")\n",
        "\n",
        "            elif choice == '4':\n",
        "                print(\"Options: to_bin, to_oct, to_hex, from_bin, from_oct, from_hex\")\n",
        "                op = input(\"Choose conversion: \")\n",
        "                val = input(\"Enter value: \")\n",
        "                if op == 'to_bin': print(\"Binary:\", to_binary(int(val)))\n",
        "                elif op == 'to_oct': print(\"Octal:\", to_octal(int(val)))\n",
        "                elif op == 'to_hex': print(\"Hexadecimal:\", to_hex(int(val)))\n",
        "                elif op == 'from_bin': print(\"Decimal:\", from_binary(val))\n",
        "                elif op == 'from_oct': print(\"Decimal:\", from_octal(val))\n",
        "                elif op == 'from_hex': print(\"Decimal:\", from_hex(val))\n",
        "                else: print(\"Invalid conversion\")\n",
        "\n",
        "            elif choice == '5':\n",
        "                op = input(\"Conversion (deg_to_rad/rad_to_deg): \")\n",
        "                val = float(input(\"Enter value: \"))\n",
        "                if op == 'deg_to_rad': print(\"Radians:\", deg_to_rad(val))\n",
        "                elif op == 'rad_to_deg': print(\"Degrees:\", rad_to_deg(val))\n",
        "                else: print(\"Invalid conversion\")\n",
        "\n",
        "            elif choice == '6':\n",
        "                print(\"π =\", math.pi)\n",
        "                print(\"e =\", math.e)\n",
        "\n",
        "            elif choice == '7':\n",
        "                print(\"Goodbye!\")\n",
        "                break\n",
        "\n",
        "            else:\n",
        "                print(\"Invalid choice. Try again.\")\n",
        "\n",
        "        except Exception as e:\n",
        "            print(\"Error:\", e)\n",
        "\n",
        "if __name__ == \"__main__\":\n",
        "    main()\n"
      ],
      "metadata": {
        "colab": {
          "base_uri": "https://localhost:8080/"
        },
        "id": "QO09WDsnflsX",
        "outputId": "83f4fedf-82a0-4479-ed2a-71749586d70a"
      },
      "execution_count": 8,
      "outputs": [
        {
          "output_type": "stream",
          "name": "stdout",
          "text": [
            "\n",
            "--- Sure Pro Scientific Calculator ---\n",
            "1. Basic Arithmetic\n",
            "2. Advanced Math Functions\n",
            "3. Trigonometry\n",
            "4. Number System Conversion\n",
            "5. Angle Conversion\n",
            "6. Constants\n",
            "7. Exit\n",
            "Choose an option (1–7): 1\n",
            "Enter first number: 2\n",
            "Enter second number: 4\n",
            "Operation (+, -, *, /, %): +\n",
            "Result: 6.0\n",
            "\n",
            "--- Sure Pro Scientific Calculator ---\n",
            "1. Basic Arithmetic\n",
            "2. Advanced Math Functions\n",
            "3. Trigonometry\n",
            "4. Number System Conversion\n",
            "5. Angle Conversion\n",
            "6. Constants\n",
            "7. Exit\n",
            "Choose an option (1–7): 3\n",
            "Mode (deg/rad): 30\n",
            "Function (sin/cos/tan): sin\n",
            "Enter angle: 30\n",
            "Invalid mode\n",
            "\n",
            "--- Sure Pro Scientific Calculator ---\n",
            "1. Basic Arithmetic\n",
            "2. Advanced Math Functions\n",
            "3. Trigonometry\n",
            "4. Number System Conversion\n",
            "5. Angle Conversion\n",
            "6. Constants\n",
            "7. Exit\n",
            "Choose an option (1–7): 7\n",
            "Goodbye!\n"
          ]
        }
      ]
    }
  ]
}